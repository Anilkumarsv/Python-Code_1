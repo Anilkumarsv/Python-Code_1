{
  "nbformat": 4,
  "nbformat_minor": 0,
  "metadata": {
    "colab": {
      "provenance": []
    },
    "kernelspec": {
      "name": "python3",
      "display_name": "Python 3"
    },
    "language_info": {
      "name": "python"
    }
  },
  "cells": [
    {
      "cell_type": "code",
      "execution_count": 2,
      "metadata": {
        "id": "9_r9DIdgEdlf",
        "colab": {
          "base_uri": "https://localhost:8080/"
        },
        "outputId": "e972bac4-94e1-4020-b316-916ffa747377"
      },
      "outputs": [
        {
          "output_type": "stream",
          "name": "stdout",
          "text": [
            "Anilkumar S V\n"
          ]
        }
      ],
      "source": [
        "str=\"Anilkumar S V\"\n",
        "print(str)"
      ]
    },
    {
      "cell_type": "code",
      "source": [
        "print(str[0:])\n",
        "print(str[1:])\n",
        "print(str[2:5])\n",
        "print(str[5:13])"
      ],
      "metadata": {
        "colab": {
          "base_uri": "https://localhost:8080/"
        },
        "id": "vCEj-EDEB1I6",
        "outputId": "647cbda3-cb5e-49f0-84f2-5c20487b0e5c"
      },
      "execution_count": 5,
      "outputs": [
        {
          "output_type": "stream",
          "name": "stdout",
          "text": [
            "Anilkumar S V\n",
            "nilkumar S V\n",
            "ilk\n",
            "umar S V\n"
          ]
        }
      ]
    },
    {
      "cell_type": "code",
      "source": [
        "print(str.islower())\n",
        "print(str.capitalize())\n",
        "print(str.isspace())\n",
        "print(str.isupper())\n",
        "print(str.isprintable())\n",
        "print(str.isnumeric())\n",
        "print(str.swapcase())\n",
        "print(str.title())\n",
        "print(str.upper())\n",
        "print(str.lower())\n",
        "print(str.rstrip())\n",
        "\n"
      ],
      "metadata": {
        "colab": {
          "base_uri": "https://localhost:8080/"
        },
        "id": "s4vjar9GCQQy",
        "outputId": "3fd67bc0-9265-431c-fd6b-ea6aae555c0b"
      },
      "execution_count": 12,
      "outputs": [
        {
          "output_type": "stream",
          "name": "stdout",
          "text": [
            "False\n",
            "Anilkumar s v\n",
            "False\n",
            "False\n",
            "True\n",
            "False\n",
            "aNILKUMAR s v\n",
            "Anilkumar S V\n",
            "ANILKUMAR S V\n",
            "anilkumar s v\n",
            "Anilkumar S V\n"
          ]
        }
      ]
    },
    {
      "cell_type": "code",
      "source": [],
      "metadata": {
        "id": "Pte5G8rsEknh"
      },
      "execution_count": null,
      "outputs": []
    },
    {
      "cell_type": "code",
      "source": [],
      "metadata": {
        "id": "o0lgmRiWEe4n"
      },
      "execution_count": null,
      "outputs": []
    },
    {
      "cell_type": "code",
      "source": [],
      "metadata": {
        "id": "R8atKg7iEWob"
      },
      "execution_count": null,
      "outputs": []
    },
    {
      "cell_type": "code",
      "source": [],
      "metadata": {
        "id": "ApEI4GyaDyxg"
      },
      "execution_count": null,
      "outputs": []
    },
    {
      "cell_type": "code",
      "source": [],
      "metadata": {
        "id": "lXouBkduDukZ"
      },
      "execution_count": null,
      "outputs": []
    },
    {
      "cell_type": "code",
      "source": [],
      "metadata": {
        "id": "axyTX5dVDr8T"
      },
      "execution_count": null,
      "outputs": []
    },
    {
      "cell_type": "code",
      "source": [],
      "metadata": {
        "id": "PNfrlJ05CumK"
      },
      "execution_count": null,
      "outputs": []
    },
    {
      "cell_type": "code",
      "source": [],
      "metadata": {
        "id": "RrLSH_QACMZo"
      },
      "execution_count": null,
      "outputs": []
    },
    {
      "cell_type": "code",
      "source": [],
      "metadata": {
        "id": "z3NQN6pjCD-5"
      },
      "execution_count": null,
      "outputs": []
    },
    {
      "cell_type": "code",
      "source": [],
      "metadata": {
        "id": "P5hgStK0BoM0"
      },
      "execution_count": null,
      "outputs": []
    }
  ]
}