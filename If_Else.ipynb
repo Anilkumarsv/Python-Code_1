{
  "nbformat": 4,
  "nbformat_minor": 0,
  "metadata": {
    "colab": {
      "provenance": []
    },
    "kernelspec": {
      "name": "python3",
      "display_name": "Python 3"
    },
    "language_info": {
      "name": "python"
    }
  },
  "cells": [
    {
      "cell_type": "code",
      "execution_count": 6,
      "metadata": {
        "id": "e2ZLWvfRlvi1",
        "colab": {
          "base_uri": "https://localhost:8080/"
        },
        "outputId": "3ed9a4be-a81b-4546-c26a-016218e67fa7"
      },
      "outputs": [
        {
          "output_type": "stream",
          "name": "stdout",
          "text": [
            "Enter a age:::20\n",
            "Eigible to vote::\n"
          ]
        }
      ],
      "source": [
        "age=int(input(\"Enter a age:::\"))\n",
        "if age>=18:\n",
        "  print(\"Eigible to vote::\")\n",
        "else:\n",
        "    print(\"Not Eigible to vote::\")"
      ]
    },
    {
      "cell_type": "code",
      "source": [],
      "metadata": {
        "id": "pB09W8kntlCm"
      },
      "execution_count": 4,
      "outputs": []
    }
  ]
}