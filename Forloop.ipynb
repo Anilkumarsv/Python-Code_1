{
  "nbformat": 4,
  "nbformat_minor": 0,
  "metadata": {
    "colab": {
      "provenance": []
    },
    "kernelspec": {
      "name": "python3",
      "display_name": "Python 3"
    },
    "language_info": {
      "name": "python"
    }
  },
  "cells": [
    {
      "cell_type": "code",
      "execution_count": 2,
      "metadata": {
        "colab": {
          "base_uri": "https://localhost:8080/"
        },
        "id": "TFVsYyTjk68E",
        "outputId": "cbe15c5b-cac1-4ca6-ce57-565512d21daf"
      },
      "outputs": [
        {
          "output_type": "stream",
          "name": "stdout",
          "text": [
            "The sum of squares 9\n",
            "The sum of squares 34\n",
            "The sum of squares 563\n",
            "The sum of squares 599\n",
            "The sum of squares 624\n",
            "The sum of squares 625\n",
            "The sum of squares 629\n",
            "The sum of squares 710\n",
            "The sum of squares 774\n"
          ]
        }
      ],
      "source": [
        "n=[3,5,23,6,5,1,2,9,8]\n",
        "sum=0\n",
        "for num in n:\n",
        "  sum=sum+num**2\n",
        "  print(\"The sum of squares\",sum)"
      ]
    },
    {
      "cell_type": "code",
      "source": [],
      "metadata": {
        "id": "DPmR4Ko_lfLj"
      },
      "execution_count": null,
      "outputs": []
    }
  ]
}