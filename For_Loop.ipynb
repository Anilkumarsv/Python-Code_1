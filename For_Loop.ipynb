{
  "nbformat": 4,
  "nbformat_minor": 0,
  "metadata": {
    "colab": {
      "provenance": []
    },
    "kernelspec": {
      "name": "python3",
      "display_name": "Python 3"
    },
    "language_info": {
      "name": "python"
    }
  },
  "cells": [
    {
      "cell_type": "code",
      "execution_count": 14,
      "metadata": {
        "id": "e2ZLWvfRlvi1",
        "colab": {
          "base_uri": "https://localhost:8080/"
        },
        "outputId": "94de9e6c-b275-4773-fcf0-1c5cd47d21dc"
      },
      "outputs": [
        {
          "output_type": "stream",
          "name": "stdout",
          "text": [
            "9\n",
            "If block\n",
            "8\n",
            "0\n",
            "2\n",
            "6\n",
            "0\n",
            "1\n",
            "4\n",
            "0\n"
          ]
        }
      ],
      "source": [
        "# Python program to save Mobile Number on Cloud\n",
        "  \n",
        "string = \"9380260140\"  \n",
        "  \n",
        "# Initiating a loop  \n",
        "for s in string:  \n",
        "    # giving a condition in if block  \n",
        "    if s == \"3\":  \n",
        "        print(\"If block\")  \n",
        "    # if condition is not satisfied then else block will be executed  \n",
        "    else:  \n",
        "        print(s)  "
      ]
    },
    {
      "cell_type": "code",
      "source": [],
      "metadata": {
        "id": "pB09W8kntlCm"
      },
      "execution_count": 4,
      "outputs": []
    }
  ]
}