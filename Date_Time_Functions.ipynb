{
  "nbformat": 4,
  "nbformat_minor": 0,
  "metadata": {
    "colab": {
      "provenance": []
    },
    "kernelspec": {
      "name": "python3",
      "display_name": "Python 3"
    },
    "language_info": {
      "name": "python"
    }
  },
  "cells": [
    {
      "cell_type": "code",
      "execution_count": 1,
      "metadata": {
        "colab": {
          "base_uri": "https://localhost:8080/"
        },
        "id": "BhVpzeUlZXy9",
        "outputId": "ff3886e2-bac9-4351-997a-c12a7331ec94"
      },
      "outputs": [
        {
          "output_type": "stream",
          "name": "stdout",
          "text": [
            "1672896662.090629\n"
          ]
        }
      ],
      "source": [
        "import time;  \n",
        "#prints the number of ticks spent since 12 AM, 1st January 1970  \n",
        "print(time.time())  "
      ]
    },
    {
      "cell_type": "code",
      "source": [
        "import time    \n",
        "  #returns the formatted time      \n",
        "  \n",
        "print(time.asctime(time.localtime(time.time())))  "
      ],
      "metadata": {
        "colab": {
          "base_uri": "https://localhost:8080/"
        },
        "id": "lUv0VnxVZnFg",
        "outputId": "d87a8c72-ad27-4e1f-f221-ee68d30d54d8"
      },
      "execution_count": 2,
      "outputs": [
        {
          "output_type": "stream",
          "name": "stdout",
          "text": [
            "Thu Jan  5 05:31:45 2023\n"
          ]
        }
      ]
    },
    {
      "cell_type": "code",
      "source": [
        "import time  \n",
        "for i in range(0,8):  \n",
        "    print(i)  \n",
        "    #Each element will be printed after 1 second  \n",
        "    time.sleep(1)  "
      ],
      "metadata": {
        "colab": {
          "base_uri": "https://localhost:8080/"
        },
        "id": "6jq6MUcEZuf5",
        "outputId": "0f9155ec-6e59-4bf8-9360-f6fded516b97"
      },
      "execution_count": 4,
      "outputs": [
        {
          "output_type": "stream",
          "name": "stdout",
          "text": [
            "0\n",
            "1\n",
            "2\n",
            "3\n",
            "4\n",
            "5\n",
            "6\n",
            "7\n"
          ]
        }
      ]
    },
    {
      "cell_type": "code",
      "source": [
        "import datetime  \n",
        "#returns the current datetime object     \n",
        "print(datetime.datetime.now()) "
      ],
      "metadata": {
        "colab": {
          "base_uri": "https://localhost:8080/"
        },
        "id": "bXSJJ8L8Z2w9",
        "outputId": "5ee88b23-a049-420c-9e4d-ef98d4048fef"
      },
      "execution_count": 5,
      "outputs": [
        {
          "output_type": "stream",
          "name": "stdout",
          "text": [
            "2023-01-05 05:32:41.894723\n"
          ]
        }
      ]
    },
    {
      "cell_type": "code",
      "source": [
        "\n",
        "\n",
        "import datetime    \n",
        "#returns the datetime object for the specified date    \n",
        "print(datetime.datetime.today())    "
      ],
      "metadata": {
        "colab": {
          "base_uri": "https://localhost:8080/"
        },
        "id": "8BrniA2CZ77o",
        "outputId": "01776b79-ddd7-4643-c8bb-c7bdbc333a75"
      },
      "execution_count": 7,
      "outputs": [
        {
          "output_type": "stream",
          "name": "stdout",
          "text": [
            "2023-01-05 05:33:42.333027\n"
          ]
        }
      ]
    }
  ]
}