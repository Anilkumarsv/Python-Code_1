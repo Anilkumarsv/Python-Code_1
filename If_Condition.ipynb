{
  "nbformat": 4,
  "nbformat_minor": 0,
  "metadata": {
    "colab": {
      "provenance": []
    },
    "kernelspec": {
      "name": "python3",
      "display_name": "Python 3"
    },
    "language_info": {
      "name": "python"
    }
  },
  "cells": [
    {
      "cell_type": "code",
      "execution_count": 3,
      "metadata": {
        "id": "e2ZLWvfRlvi1",
        "outputId": "f7fd6bcc-6530-4a03-aeb2-5409d010f567",
        "colab": {
          "base_uri": "https://localhost:8080/"
        }
      },
      "outputs": [
        {
          "output_type": "stream",
          "name": "stdout",
          "text": [
            "enter the number?6\n",
            "Number is even\n"
          ]
        }
      ],
      "source": [
        "num = int(input(\"enter the number?\"))  \n",
        "if num%2 == 0:  \n",
        "    print(\"Number is even\")  #9380260140"
      ]
    },
    {
      "cell_type": "code",
      "source": [
        "a = int(input(\"Enter a? \"));  \n",
        "b = int(input(\"Enter b? \"));  \n",
        "c = int(input(\"Enter c? \"));  \n",
        "if a>b and a>c:  \n",
        "    print(\"a is largest\");  \n",
        "if b>a and b>c:  \n",
        "    print(\"b is largest\");  \n",
        "if c>a and c>b:  \n",
        "    print(\"c is largest\");  "
      ],
      "metadata": {
        "id": "pB09W8kntlCm",
        "colab": {
          "base_uri": "https://localhost:8080/"
        },
        "outputId": "157dec21-b42c-4e94-d345-97265aea90bf"
      },
      "execution_count": null,
      "outputs": [
        {
          "output_type": "stream",
          "name": "stdout",
          "text": [
            "Enter a? 100\n",
            "Enter b? 200\n",
            "Enter c? 300\n",
            "c is largest\n"
          ]
        }
      ]
    }
  ]
}