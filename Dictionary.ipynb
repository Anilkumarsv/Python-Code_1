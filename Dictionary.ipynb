{
  "nbformat": 4,
  "nbformat_minor": 0,
  "metadata": {
    "colab": {
      "provenance": []
    },
    "kernelspec": {
      "name": "python3",
      "display_name": "Python 3"
    },
    "language_info": {
      "name": "python"
    }
  },
  "cells": [
    {
      "cell_type": "markdown",
      "source": [
        "Dictionary"
      ],
      "metadata": {
        "id": "rz2LNwfpXbkY"
      }
    },
    {
      "cell_type": "code",
      "source": [
        "emp={\"Name\":\"Anil kumar S V\",\"Age\":27,\"Salary\":30000,\"Company\":\"Pragathi Group OF Instutitions\"}"
      ],
      "metadata": {
        "id": "67xeGiuvXhwj"
      },
      "execution_count": 1,
      "outputs": []
    },
    {
      "cell_type": "code",
      "source": [
        "print(type(emp))"
      ],
      "metadata": {
        "colab": {
          "base_uri": "https://localhost:8080/"
        },
        "id": "3YdvMDD9X3jP",
        "outputId": "77468257-746f-4ce1-9842-32a2c969c5c6"
      },
      "execution_count": 2,
      "outputs": [
        {
          "output_type": "stream",
          "name": "stdout",
          "text": [
            "<class 'dict'>\n"
          ]
        }
      ]
    },
    {
      "cell_type": "code",
      "source": [
        "print(\"Printing Employee Data....\")\n",
        "print(emp)"
      ],
      "metadata": {
        "colab": {
          "base_uri": "https://localhost:8080/"
        },
        "id": "-a_Zya8hYVeT",
        "outputId": "98b5ae15-d075-45d7-9f87-5700e3e3aafc"
      },
      "execution_count": 3,
      "outputs": [
        {
          "output_type": "stream",
          "name": "stdout",
          "text": [
            "Printing Employee Data....\n",
            "{'Name': 'Anil kumar S V', 'Age': 27, 'Salary': 30000, 'Company': 'Pragathi Group OF Instutitions'}\n"
          ]
        }
      ]
    }
  ]
}