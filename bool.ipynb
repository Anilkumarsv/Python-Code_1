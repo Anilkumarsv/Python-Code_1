{
  "nbformat": 4,
  "nbformat_minor": 0,
  "metadata": {
    "colab": {
      "provenance": []
    },
    "kernelspec": {
      "name": "python3",
      "display_name": "Python 3"
    },
    "language_info": {
      "name": "python"
    }
  },
  "cells": [
    {
      "cell_type": "code",
      "execution_count": 1,
      "metadata": {
        "colab": {
          "base_uri": "https://localhost:8080/"
        },
        "id": "ltIAL2ccbyry",
        "outputId": "cf83ab55-be80-4ad4-8bb8-076238315fe4"
      },
      "outputs": [
        {
          "output_type": "stream",
          "name": "stdout",
          "text": [
            "True\n"
          ]
        }
      ],
      "source": [
        "print(10>9)"
      ]
    },
    {
      "cell_type": "code",
      "source": [
        "print(10==9)"
      ],
      "metadata": {
        "colab": {
          "base_uri": "https://localhost:8080/"
        },
        "id": "47E_HO4gdYsj",
        "outputId": "5dbd5fba-0227-4eb2-eb2a-0349542fa32c"
      },
      "execution_count": 2,
      "outputs": [
        {
          "output_type": "stream",
          "name": "stdout",
          "text": [
            "False\n"
          ]
        }
      ]
    },
    {
      "cell_type": "code",
      "source": [
        "print(10<9)"
      ],
      "metadata": {
        "colab": {
          "base_uri": "https://localhost:8080/"
        },
        "id": "r-L1rjyxdbV2",
        "outputId": "fa8f40e3-75d1-4b42-c3f4-a1b4f2aa08cd"
      },
      "execution_count": 3,
      "outputs": [
        {
          "output_type": "stream",
          "name": "stdout",
          "text": [
            "False\n"
          ]
        }
      ]
    },
    {
      "cell_type": "markdown",
      "source": [
        "Checking Boolean Data type"
      ],
      "metadata": {
        "id": "QFlABWyzdfNK"
      }
    },
    {
      "cell_type": "code",
      "source": [
        "a=200\n",
        "b=100\n",
        "if b>a:\n",
        "  print(\"b is greater then a\")\n",
        "else:\n",
        "  print(\"b is not greator than a\")"
      ],
      "metadata": {
        "colab": {
          "base_uri": "https://localhost:8080/"
        },
        "id": "CWCd34wZdj0-",
        "outputId": "a14c8853-02b7-409b-dc7a-bb668dafd9d6"
      },
      "execution_count": 5,
      "outputs": [
        {
          "output_type": "stream",
          "name": "stdout",
          "text": [
            "b is not greator than a\n"
          ]
        }
      ]
    },
    {
      "cell_type": "markdown",
      "source": [
        "Print \"YES!\" if the function returns True, otherwise print \"NO!\":"
      ],
      "metadata": {
        "id": "fHoN5WHTd-WO"
      }
    },
    {
      "cell_type": "code",
      "source": [
        "def myFunction() :\n",
        "  return True\n",
        "\n",
        "if myFunction():\n",
        "  print(\"YES!\")\n",
        "else:\n",
        "  print(\"NO!\")"
      ],
      "metadata": {
        "colab": {
          "base_uri": "https://localhost:8080/"
        },
        "id": "lJ8iUGDzeDBs",
        "outputId": "2b45f027-2961-4cb4-d062-36f290b485ff"
      },
      "execution_count": 6,
      "outputs": [
        {
          "output_type": "stream",
          "name": "stdout",
          "text": [
            "YES!\n"
          ]
        }
      ]
    }
  ]
}