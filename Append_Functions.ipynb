{
  "nbformat": 4,
  "nbformat_minor": 0,
  "metadata": {
    "colab": {
      "provenance": []
    },
    "kernelspec": {
      "name": "python3",
      "display_name": "Python 3"
    },
    "language_info": {
      "name": "python"
    }
  },
  "cells": [
    {
      "cell_type": "markdown",
      "source": [
        "Append Function"
      ],
      "metadata": {
        "id": "PQVNXyhSd0aS"
      }
    },
    {
      "cell_type": "code",
      "source": [
        "Str=\"Anilkumar SV\""
      ],
      "metadata": {
        "id": "bx5G_UXfdHu5"
      },
      "execution_count": 1,
      "outputs": []
    },
    {
      "cell_type": "code",
      "source": [
        "print (Str)"
      ],
      "metadata": {
        "colab": {
          "base_uri": "https://localhost:8080/"
        },
        "id": "oeH488Y4d-g1",
        "outputId": "1cf2ea16-81fe-4123-98f3-7569e0ed990a"
      },
      "execution_count": 2,
      "outputs": [
        {
          "output_type": "stream",
          "name": "stdout",
          "text": [
            "Anilkumar SV\n"
          ]
        }
      ]
    },
    {
      "cell_type": "code",
      "source": [],
      "metadata": {
        "id": "NQCWQ4L68npz"
      },
      "execution_count": null,
      "outputs": []
    },
    {
      "cell_type": "code",
      "source": [
        "list=['Anil','Kumar',10000,20,450]\n"
      ],
      "metadata": {
        "id": "sRiOdqQpeAqK"
      },
      "execution_count": 3,
      "outputs": []
    },
    {
      "cell_type": "code",
      "source": [
        "list\n"
      ],
      "metadata": {
        "id": "Pg4pdlFPeR0J",
        "colab": {
          "base_uri": "https://localhost:8080/"
        },
        "outputId": "d7b9384b-5b33-46f9-8972-3b976142f6d2"
      },
      "execution_count": 4,
      "outputs": [
        {
          "output_type": "execute_result",
          "data": {
            "text/plain": [
              "['Anil', 'Kumar', 10000, 20, 450]"
            ]
          },
          "metadata": {},
          "execution_count": 4
        }
      ]
    },
    {
      "cell_type": "code",
      "source": [
        "list.append('kumar')"
      ],
      "metadata": {
        "id": "HDoa1lhlcs2y"
      },
      "execution_count": 7,
      "outputs": []
    },
    {
      "cell_type": "code",
      "source": [
        "list"
      ],
      "metadata": {
        "colab": {
          "base_uri": "https://localhost:8080/"
        },
        "id": "a5jxK3PB8oXR",
        "outputId": "4807d68a-5ce3-47a3-8be0-3fe0028c12b4"
      },
      "execution_count": 8,
      "outputs": [
        {
          "output_type": "execute_result",
          "data": {
            "text/plain": [
              "['Anil', 'Kumar', 10000, 20, 450, 'kumar', 'kumar']"
            ]
          },
          "metadata": {},
          "execution_count": 8
        }
      ]
    },
    {
      "cell_type": "code",
      "source": [],
      "metadata": {
        "id": "4d90Mt4w8xUE"
      },
      "execution_count": null,
      "outputs": []
    },
    {
      "cell_type": "markdown",
      "source": [
        "Insert "
      ],
      "metadata": {
        "id": "TeOf0G5B86_t"
      }
    },
    {
      "cell_type": "code",
      "source": [
        "list.insert(2,'S V')"
      ],
      "metadata": {
        "id": "QcxL-zfq89Vr"
      },
      "execution_count": 9,
      "outputs": []
    },
    {
      "cell_type": "code",
      "source": [
        "list"
      ],
      "metadata": {
        "colab": {
          "base_uri": "https://localhost:8080/"
        },
        "id": "LqVv7NCa9CGi",
        "outputId": "52942153-e7c2-40bc-8776-03a0c0291d3e"
      },
      "execution_count": 10,
      "outputs": [
        {
          "output_type": "execute_result",
          "data": {
            "text/plain": [
              "['Anil', 'Kumar', 'S V', 10000, 20, 450, 'kumar', 'kumar']"
            ]
          },
          "metadata": {},
          "execution_count": 10
        }
      ]
    },
    {
      "cell_type": "code",
      "source": [
        "list.remove(\"kumar\")"
      ],
      "metadata": {
        "id": "zlObN3rZ9E2x"
      },
      "execution_count": 20,
      "outputs": []
    },
    {
      "cell_type": "code",
      "source": [
        "list"
      ],
      "metadata": {
        "colab": {
          "base_uri": "https://localhost:8080/"
        },
        "id": "NvG3UCmf-MVf",
        "outputId": "19674998-361f-40d3-dae8-59e8f2c0dd72"
      },
      "execution_count": 21,
      "outputs": [
        {
          "output_type": "execute_result",
          "data": {
            "text/plain": [
              "['Anil', 'Kumar', 'S V', 10000, 20, 450, 'kumar']"
            ]
          },
          "metadata": {},
          "execution_count": 21
        }
      ]
    },
    {
      "cell_type": "code",
      "source": [],
      "metadata": {
        "id": "9p56P9BY-Sb2"
      },
      "execution_count": null,
      "outputs": []
    },
    {
      "cell_type": "code",
      "source": [],
      "metadata": {
        "id": "sLG4kCQ19tWQ"
      },
      "execution_count": null,
      "outputs": []
    },
    {
      "cell_type": "code",
      "source": [],
      "metadata": {
        "id": "mE3zBIpG9pwz"
      },
      "execution_count": null,
      "outputs": []
    },
    {
      "cell_type": "code",
      "source": [],
      "metadata": {
        "id": "rikN4TLC9aHK"
      },
      "execution_count": null,
      "outputs": []
    }
  ]
}