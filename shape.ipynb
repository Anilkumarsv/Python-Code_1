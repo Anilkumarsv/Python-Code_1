{
  "nbformat": 4,
  "nbformat_minor": 0,
  "metadata": {
    "colab": {
      "provenance": []
    },
    "kernelspec": {
      "name": "python3",
      "display_name": "Python 3"
    },
    "language_info": {
      "name": "python"
    }
  },
  "cells": [
    {
      "cell_type": "code",
      "execution_count": 73,
      "metadata": {
        "colab": {
          "base_uri": "https://localhost:8080/"
        },
        "id": "55bhCNrlGN6l",
        "outputId": "2db7d922-d5c5-4baa-a98d-799d18a9bf13"
      },
      "outputs": [
        {
          "output_type": "stream",
          "name": "stdout",
          "text": [
            "   *    *    *    *    \n",
            "*          *          * \n",
            "*                      * \n",
            "*       ANILKUMAR S V             * \n",
            "   *                *    \n",
            "      *          *       \n",
            "         *    *          \n",
            "            *             \n"
          ]
        }
      ],
      "source": [
        "n=8;m=n+1\n",
        "for i in range(n//2-1):\n",
        "  for j in range(m):\n",
        "    if i==n//2-2 and (j==0 or j==m-1):\n",
        "      print(\"*\",end=\" \")\n",
        "    elif j <=m//2 and ((i+j==n//2-3 and j<=m//4)\n",
        "     or (j-i==m//2-n//2+3 and j>m//4)):\n",
        "      print(\"*\",end=\" \")\n",
        "    elif j > m//2 and ((i+j==n//2-3+m//2 and j<3*m//4)\n",
        "     or (j-i==m//2-n//2+3+m//2 and j>=3*m//4)):\n",
        "      print(\"*\",end=\" \")\n",
        "    else:\n",
        "      print(\"  \",end=\" \")\n",
        "  print()\n",
        "for i in range(n//2-1,n):\n",
        "  for j in range(m):\n",
        "    if(i-j==n//2-1)or(i+j==n-1+m//2):\n",
        "      print(\"*\",end=\" \")\n",
        "    elif i==n//2-1:\n",
        "      if j==m//2-1 or j==m//1+1:\n",
        "        print(\"ANILKUMAR S V\",end=\" \")\n",
        "      elif j==m//2:\n",
        "        print(\"  \",end=\" \")\n",
        "      else: \n",
        "        print(\"  \",end=\" \")\n",
        "    else:\n",
        "      print(\"  \",end=\" \")\n",
        "  print()"
      ]
    }
  ]
}