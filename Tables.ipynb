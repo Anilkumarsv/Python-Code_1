{
  "nbformat": 4,
  "nbformat_minor": 0,
  "metadata": {
    "colab": {
      "provenance": []
    },
    "kernelspec": {
      "name": "python3",
      "display_name": "Python 3"
    },
    "language_info": {
      "name": "python"
    }
  },
  "cells": [
    {
      "cell_type": "code",
      "execution_count": 5,
      "metadata": {
        "colab": {
          "base_uri": "https://localhost:8080/"
        },
        "id": "ksHM4dEwnz2t",
        "outputId": "7f77aa6f-af76-4f79-c3f3-020b474f43a4"
      },
      "outputs": [
        {
          "output_type": "stream",
          "name": "stdout",
          "text": [
            "The Multiplication Table of:  10\n",
            "10 x 1 = 10\n",
            "10 x 2 = 20\n",
            "10 x 3 = 30\n",
            "10 x 4 = 40\n",
            "10 x 5 = 50\n",
            "10 x 6 = 60\n",
            "10 x 7 = 70\n",
            "10 x 8 = 80\n",
            "10 x 9 = 90\n",
            "10 x 10 = 100\n"
          ]
        }
      ],
      "source": [
        "num = 10        \n",
        "counter = 1      \n",
        "# we will use a while loop for iterating 10 times for the multiplication table        \n",
        "print(\"The Multiplication Table of: \", num)      \n",
        "while counter <= 10: # specifying the condition  \n",
        "    ans = num * counter      \n",
        "    print (num, 'x', counter, '=', ans)      \n",
        "    counter += 1 # expression to increment the counter  "
      ]
    },
    {
      "cell_type": "code",
      "source": [],
      "metadata": {
        "id": "8haCyqIOostC"
      },
      "execution_count": null,
      "outputs": []
    },
    {
      "cell_type": "code",
      "source": [],
      "metadata": {
        "id": "_TiZLqcaoka4"
      },
      "execution_count": null,
      "outputs": []
    },
    {
      "cell_type": "code",
      "source": [],
      "metadata": {
        "id": "V0ZpZOEDohAZ"
      },
      "execution_count": null,
      "outputs": []
    },
    {
      "cell_type": "code",
      "source": [],
      "metadata": {
        "id": "UUquwN3-oTYY"
      },
      "execution_count": null,
      "outputs": []
    },
    {
      "cell_type": "code",
      "source": [],
      "metadata": {
        "id": "Hcj5xk9JoOYt"
      },
      "execution_count": null,
      "outputs": []
    }
  ]
}