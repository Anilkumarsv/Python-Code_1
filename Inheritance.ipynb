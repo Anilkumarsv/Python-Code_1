{
  "nbformat": 4,
  "nbformat_minor": 0,
  "metadata": {
    "colab": {
      "provenance": []
    },
    "kernelspec": {
      "name": "python3",
      "display_name": "Python 3"
    },
    "language_info": {
      "name": "python"
    }
  },
  "cells": [
    {
      "cell_type": "code",
      "execution_count": 2,
      "metadata": {
        "colab": {
          "base_uri": "https://localhost:8080/"
        },
        "id": "B0msQ04LR2V3",
        "outputId": "4f9120c3-6c2e-4fdd-a4ff-7200178ffffc"
      },
      "outputs": [
        {
          "output_type": "stream",
          "name": "stdout",
          "text": [
            "Bank Rate of interest: 20\n",
            "SBI Rate of interest: 5\n",
            "ICICI Rate of interest: 15\n"
          ]
        }
      ],
      "source": [
        "class Bank:  \n",
        "    def getroi(self):  \n",
        "        return 20;  \n",
        "class SBI(Bank):  \n",
        "    def getroi(self):  \n",
        "        return 5;  \n",
        "  \n",
        "class ICICI(Bank):  \n",
        "    def getroi(self):  \n",
        "        return 15;  \n",
        "b1 = Bank()  \n",
        "b2 = SBI()  \n",
        "b3 = ICICI()  \n",
        "print(\"Bank Rate of interest:\",b1.getroi());  \n",
        "print(\"SBI Rate of interest:\",b2.getroi());  \n",
        "print(\"ICICI Rate of interest:\",b3.getroi());  "
      ]
    }
  ]
}