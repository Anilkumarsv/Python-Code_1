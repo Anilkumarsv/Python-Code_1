{
  "nbformat": 4,
  "nbformat_minor": 0,
  "metadata": {
    "colab": {
      "provenance": []
    },
    "kernelspec": {
      "name": "python3",
      "display_name": "Python 3"
    },
    "language_info": {
      "name": "python"
    }
  },
  "cells": [
    {
      "cell_type": "code",
      "execution_count": 2,
      "metadata": {
        "colab": {
          "base_uri": "https://localhost:8080/"
        },
        "id": "UHUHZu7vYVdQ",
        "outputId": "fa33ef92-ec1d-4d9a-fe14-c3a17ea3d618"
      },
      "outputs": [
        {
          "output_type": "stream",
          "name": "stdout",
          "text": [
            "Enter a number::40\n",
            "x is Greather than 20\n"
          ]
        }
      ],
      "source": [
        "x=int(input(\"Enter a number::\"))\n",
        "if x>10:\n",
        "  if x>20:\n",
        "    print(\"x is Greather than 20\")\n",
        "  else:\n",
        "    print(\"20>x>10\")\n",
        "else:\n",
        "  print(\"x is <10\")"
      ]
    }
  ]
}